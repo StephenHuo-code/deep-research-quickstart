{
 "cells": [
  {
   "cell_type": "markdown",
   "metadata": {},
   "source": [
    "## 创建项目环境和基本依赖"
   ]
  },
  {
   "cell_type": "code",
   "execution_count": null,
   "metadata": {
    "vscode": {
     "languageId": "shellscript"
    }
   },
   "outputs": [],
   "source": [
    "uv init deep-research-quickstart\n",
    "cd deep-research-quickstart\n",
    "mkdir src\n",
    "uv add jinja2 firecrawl-py socksio\n",
    "uv add langchain langchain-openai langchain_tavily\n",
    "uv add langgraph langgraph-supervisor\n"
   ]
  },
  {
   "cell_type": "markdown",
   "metadata": {},
   "source": [
    "## 一、模型"
   ]
  },
  {
   "cell_type": "code",
   "execution_count": 1,
   "metadata": {
    "vscode": {
     "languageId": "shellscript"
    }
   },
   "outputs": [
    {
     "name": "stdout",
     "output_type": "stream",
     "text": [
      "你好呀！有什么问题我都可以帮你解答，尽管跟我说。 \n"
     ]
    }
   ],
   "source": [
    "import os\n",
    "from src.models.chat_model import chat_model_doubao\n",
    "\n",
    "print(chat_model_doubao.invoke(\"你好，豆包\").content)"
   ]
  },
  {
   "cell_type": "code",
   "execution_count": 2,
   "metadata": {
    "vscode": {
     "languageId": "shellscript"
    }
   },
   "outputs": [
    {
     "name": "stdout",
     "output_type": "stream",
     "text": [
      "你好！有什么我可以帮助你的吗？\n"
     ]
    }
   ],
   "source": [
    "import os\n",
    "from src.models.chat_model import chat_model\n",
    "\n",
    "print(chat_model.invoke(\"你好\").content)"
   ]
  },
  {
   "cell_type": "markdown",
   "metadata": {},
   "source": [
    "## 二、工具"
   ]
  },
  {
   "cell_type": "code",
   "execution_count": null,
   "metadata": {},
   "outputs": [],
   "source": [
    "# 导入网页爬取工具\n",
    "from src.tools.web_crawl import web_crawl\n",
    "import os\n",
    "\n",
    "# 检查 FIRECRAWL_API_KEY 环境变量\n",
    "if not os.getenv(\"FIRECRAWL_API_KEY\"):\n",
    "    print(\"⚠️  警告: 未设置 FIRECRAWL_API_KEY 环境变量\")\n",
    "    print(\"请设置环境变量: export FIRECRAWL_API_KEY='your_api_key'\")\n",
    "else:\n",
    "    print(\"✅ FIRECRAWL_API_KEY 已配置\")\n",
    "\n",
    "# 基本爬取示例\n",
    "try:\n",
    "    # 爬取一个示例网页\n",
    "    url = \"https://docs.byteplus.com/en/docs/byteplus-media-live/docs-changelog\"\n",
    "    print(f\"\\n正在爬取: {url}\")\n",
    "    \n",
    "    content = web_crawl.invoke(url)\n",
    "    \n",
    "    print(f\"\\n爬取成功! 内容预览:\")\n",
    "    print(\"=\" * 50)\n",
    "    # 只显示前500个字符\n",
    "    print(content[:500] + \"...\")\n",
    "    \n",
    "except Exception as e:\n",
    "    print(f\"爬取失败: {e}\")\n",
    "    print(\"请确保已设置正确的 FIRECRAWL_API_KEY\")\n"
   ]
  },
  {
   "cell_type": "markdown",
   "metadata": {},
   "source": [
    "使用chatmodel结合爬虫工具"
   ]
  },
  {
   "cell_type": "code",
   "execution_count": null,
   "metadata": {},
   "outputs": [],
   "source": [
    "# 高级示例：爬取网页内容并用AI分析\n",
    "from src.models.chat_model import chat_model\n",
    "from langchain.schema import SystemMessage, HumanMessage\n",
    "\n",
    "def analyze_webpage(url, question):\n",
    "    \"\"\"爬取网页并用AI分析内容\"\"\"\n",
    "    try:\n",
    "        print(f\"正在爬取: {url}\")\n",
    "        \n",
    "        # 爬取网页内容\n",
    "        content = web_crawl.invoke(url)\n",
    "        \n",
    "        if not content:\n",
    "            return \"爬取失败或内容为空\"\n",
    "            \n",
    "        print(f\"爬取成功，内容长度: {len(content)} 字符\")\n",
    "        \n",
    "        # 使用AI分析内容\n",
    "        response = chat_model.invoke([\n",
    "            SystemMessage(content=\"\"\"你是一个视频云产品专家。请基于提供的网页内容，回答相关问题。\n",
    "            要求：\n",
    "            1. 仔细阅读网页内容\n",
    "            2. 针对用户问题给出准确回答\n",
    "            3. 如果内容不足以回答问题，请明确说明\n",
    "            4. 用中文回答\"\"\"),\n",
    "            HumanMessage(content=f\"网页内容:\\n{content[:3000]}\\n\\n用户问题: {question}\")\n",
    "        ])\n",
    "        \n",
    "        return response.content\n",
    "        \n",
    "    except Exception as e:\n",
    "        return f\"分析失败: {e}\"\n",
    "\n",
    "# 示例使用\n",
    "if os.getenv(\"FIRECRAWL_API_KEY\") and os.getenv(\"DOUBAO_API_KEY\"):\n",
    "    # 分析Python官网\n",
    "    result = analyze_webpage(\n",
    "        \"https://docs.byteplus.com/en/docs/byteplus-media-live/docs-changelog\", \n",
    "        \"把过去发布的特征整理成mardown格式；\"\n",
    "    )\n",
    "    print(\"\\nAI分析结果:\")\n",
    "    print(\"=\" * 50)\n",
    "    print(result)\n",
    "else:\n",
    "    print(\"需要设置 FIRECRAWL_API_KEY 和 DOUBAO_API_KEY 环境变量才能运行此示例\")\n"
   ]
  },
  {
   "cell_type": "markdown",
   "metadata": {},
   "source": [
    "# 三、单智能体Agent"
   ]
  },
  {
   "cell_type": "code",
   "execution_count": null,
   "metadata": {
    "vscode": {
     "languageId": "shellscript"
    }
   },
   "outputs": [
    {
     "data": {
      "image/png": "[encoded data removed]",
      "text/plain": [
       "<IPython.core.display.Image object>"
      ]
     },
     "metadata": {},
     "output_type": "display_data"
    },
    {
     "name": "stdout",
     "output_type": "stream",
     "text": [
      "================================\u001b[1m Human Message \u001b[0m=================================\n",
      "\n",
      "2025年NBA总决赛结果怎么样？\n",
      "==================================\u001b[1m Ai Message \u001b[0m==================================\n",
      "Name: researcher\n",
      "Tool Calls:\n",
      "  web_search (call_ePdSJ0y0D6NR1NYtpjfUZY4z)\n",
      " Call ID: call_ePdSJ0y0D6NR1NYtpjfUZY4z\n",
      "  Args:\n",
      "    query: 2025 NBA Finals results\n",
      "=================================\u001b[1m Tool Message \u001b[0m=================================\n",
      "Name: web_search\n",
      "\n",
      "{'query': '2025 NBA Finals results', 'follow_up_questions': None, 'answer': None, 'images': [], 'results': [{'title': 'NBA Finals 2025 - Thunder-Pacers news, schedule, scores and highlights ...', 'url': 'https://www.espn.com/nba/story/_/id/44610574/nba-finals-2025-postseason-news-scores-highlights', 'content': 'NBA Finals 2025 - Thunder-Pacers news, schedule, scores and highlights - ESPN NBA *   NBA Final    OKC wins series 4-3    * Image 1 Indiana Pacers Pacers IND 91 * Image 2 Oklahoma City Thunder Thunder OKC 103 NBA Finals - Game 7 OKC wins series 4-3 NBA Finals - Game 7 OKC wins series 4-3 *   NBA NBA Finals 2025: Thunder-Pacers news, schedule, scores and highlights 2025 NBA Finals: OKC crowned champions in winner-takes-all Game 7 19h NBA insiders NBA Finals 2025: Thunder-Pacers news, schedule, scores and highlights NBA FINALS *   Pacers force winner-take-all, rout OKC in Game 6 of NBA Finals The 2025 NBA Finals are here! Our NBA insiders break down everything you need to know ahead of this Pacers-Thunder showdown.**Read here**', 'score': 0.850382, 'raw_content': None}, {'title': '2025 NBA Finals - Pacers vs. Thunder - Basketball-Reference.com', 'url': 'https://www.basketball-reference.com/playoffs/2025-nba-finals-pacers-vs-thunder.html', 'content': \"New Orleans Pelicans(21-61)F$    **» All NBA & ABA Teams· G-League Teams· NBL Teams· International Teams· WNBA Teams**   *   Stathead**Stathead**Basketball's Most Powerful Research Tools  Players: Season Finder· Game Finder· Streak Finder· Span Finder· Quarter Finder· Versus Finder Teams: Season Finder· Game Finder· Streak Finder· Span Finder Other: Event Finder· Shot Finder College: Player Game Finder· Player Season Finder· Team Game Finder· Team Season Finder  » **All Stathead Tools**   Playoff Series Table**Finals**Oklahoma City Thunder tied with Indiana Pacers(3-3)Series Stats *   Teams**Atlantic**: Toronto, Boston, New York, Brooklyn, Philadelphia **Central**: Cleveland, Indiana, Detroit, Chicago, Milwaukee **Southeast**: Miami, Atlanta, Charlotte, Washington, Orlando **Northwest**: Oklahoma City, Portland, Utah, Denver, Minnesota **Pacific**: Golden State, Los Angeles Clippers, Sacramento, Phoenix, Los Angeles Lakers **Southwest**: San Antonio, Dallas, Memphis, Houston, New Orleans \", 'score': 0.8306082, 'raw_content': None}, {'title': '2025 NBA Finals - Wikipedia', 'url': 'https://en.wikipedia.org/wiki/2025_NBA_Finals', 'content': 'The **2025 NBA Finals** is the ongoing championship series of the National Basketball Association (NBA)\\'s 2024–25 season and conclusion to the season\\'s playoffs. The Pacers\\' third improbable comeback occurred against the New York Knicks in Game 1 of the Eastern Conference Finals_New_York_Knicks_vs._(4)_Indiana_Pacers \"2025 NBA playoffs\"): down 14 with 2:45 left, the Pacers were able to win the game in overtime. In the Western Conference Finals_Oklahoma_City_Thunder_vs._(6)_Minnesota_Timberwolves \"2025 NBA playoffs\"), they won the series handily against the Minnesota Timberwolves in five games. \"Tyrese Haliburton, Pacers beat Thunder in NBA Finals Game 3: Analysis and reaction\". **^**\"2025 NBA Finals: Biggest takeaways from Thunder-Pacers Game 3\". \"ABC\\'s Exclusive Coverage of the 2025 NBA Finals Presented by YouTube TV Begins June 5: Indiana Pacers vs.', 'score': 0.8047902, 'raw_content': None}, {'title': 'Who won 2025 NBA Finals? Oklahoma City Thunder vs Indiana Pacers score', 'url': 'https://www.azcentral.com/story/sports/nba/2025/06/23/who-won-2025-nba-finals-oklahoma-city-thunder-indiana-pacers/84319853007/', 'content': 'Oklahoma City lost Game 1 of the NBA finals against Indiana before bouncing back to win Game 2. Barefoot Vitality | [AdAd](https://verfernonreless.com/8311b48a-ffd6-4495-9782-d76d0d67d39b \"This New Barefoot Shoe is Game Changer for Seniors\") Barefoot Vitality | [AdAd Learn More](https://verfernonreless.com/8311b48a-ffd6-4495-9782-d76d0d67d39b \"Orthopedists: New Barefoot Shoe is Game Changer\") The US Army 250th Anniversary Eagle Wreath Decoration is Taking Council Bluffs By Storm Stand out in Your City With a Stunning Flag Wreath for Your Home SOLYMALL | [AdAd](https://tick.topchicdeals.com/83b67b6b-e843-40ee-8023-e8754f1ba01f \"The US Army 250th Anniversary Eagle Wreath Decoration is Taking Council Bluffs By Storm\") Sherum | [AdAd Learn More](https://tick.topchicdeals.com/66512e1c-39cf-45cc-8e27-e245b8eb85aa \"Why Are People Snapping up This Metal Eagle Flag Tree Stake?\") Durant trade winners and losers after blockbuster deal Breaking down the NBA trade that sent Kevin Durant to the Houston Rockets from the Phoenix Suns.The Arizona Republic', 'score': 0.68140936, 'raw_content': None}, {'title': '2025 NBA Playoffs: Full schedule and results', 'url': 'https://www.nba.com/news/2025-nba-playoffs-schedule', 'content': '*   TeamsAtlantic Image 2: Boston Celtics Logo Boston CelticsImage 3: Brooklyn Nets Logo Brooklyn NetsImage 4: New York Knicks Logo New York KnicksImage 5: Philadelphia 76ers Logo Philadelphia 76ersImage 6: Toronto Raptors Logo Toronto Raptors Central Image 7: Chicago Bulls Logo Chicago BullsImage 8: Cleveland Cavaliers Logo Cleveland CavaliersImage 9: Detroit Pistons Logo Detroit PistonsImage 10: Indiana Pacers Logo Indiana PacersImage 11: Milwaukee Bucks Logo Milwaukee Bucks Southeast Image 12: Atlanta Hawks Logo Atlanta HawksImage 13: Charlotte Hornets Logo Charlotte HornetsImage 14: Miami Heat Logo Miami HeatImage 15: Orlando Magic Logo Orlando MagicImage 16: Washington Wizards Logo Washington Wizards Northwest Image 17: Denver Nuggets Logo Denver NuggetsImage 18: Minnesota Timberwolves Logo Minnesota TimberwolvesImage 19: Oklahoma City Thunder Logo Oklahoma City ThunderImage 20: Portland Trail Blazers Logo Portland Trail BlazersImage 21: Utah Jazz Logo Utah Jazz Pacific Image 22: Golden State Warriors Logo Golden State WarriorsImage 23: LA Clippers Logo LA ClippersImage 24: Los Angeles Lakers Logo Los Angeles LakersImage 25: Phoenix Suns Logo Phoenix SunsImage 26: Sacramento Kings Logo Sacramento Kings Southwest Image 27: Dallas Mavericks Logo Dallas MavericksImage 28: Houston Rockets Logo Houston RocketsImage 29: Memphis Grizzlies Logo Memphis GrizzliesImage 30: New Orleans Pelicans Logo New Orleans PelicansImage 31: San Antonio Spurs Logo San Antonio Spurs    ', 'score': 0.5829428, 'raw_content': None}], 'response_time': 2.02}\n",
      "==================================\u001b[1m Ai Message \u001b[0m==================================\n",
      "Name: researcher\n",
      "\n",
      "### 2025 NBA Finals Report\n",
      "\n",
      "#### Introduction\n",
      "The 2025 NBA Finals concluded with a thrilling series between the Oklahoma City Thunder and the Indiana Pacers. This championship series was the culmination of the 2024-25 NBA season, showcasing intense competition and remarkable performances from both teams.\n",
      "\n",
      "#### Series Overview\n",
      "The Finals were a best-of-seven series, ultimately decided in a dramatic Game 7. The Oklahoma City Thunder emerged victorious, clinching the series 4-3 against the Indiana Pacers. This victory marked a significant achievement for the Thunder, who demonstrated resilience and skill throughout the series.\n",
      "\n",
      "#### Key Games and Performances\n",
      "- **Game 1**: The series began with the Indiana Pacers taking an early lead by winning the first game. However, the Thunder quickly bounced back in Game 2, leveling the series.\n",
      "- **Game 6**: The Pacers forced a decisive Game 7 by routing the Thunder, showcasing their determination and ability to perform under pressure.\n",
      "- **Game 7**: The final game was a winner-takes-all scenario, where the Thunder secured their championship with a 103-91 victory over the Pacers. This game highlighted the Thunder's strategic prowess and execution on the court.\n",
      "\n",
      "#### Conclusion\n",
      "The 2025 NBA Finals were a testament to the competitive spirit and high-level basketball played by both the Oklahoma City Thunder and the Indiana Pacers. The Thunder's victory in Game 7 not only crowned them as champions but also underscored their ability to overcome challenges and perform when it mattered most. This series will be remembered for its intensity and the exceptional performances that defined the 2024-25 NBA season.\n"
     ]
    }
   ],
   "source": [
    "import uuid\n",
    "import os\n",
    "from typing import Optional\n",
    "from langgraph.graph.graph import CompiledGraph\n",
    "from src.agents.researcher import researcher\n",
    "\n",
    "\n",
    "def run_agent(agent: CompiledGraph, message: str):\n",
    "    result = agent.stream(\n",
    "        {\"messages\": [{\"role\": \"user\", \"content\": message}]},\n",
    "        stream_mode=\"values\",\n",
    "        config={\"thread_id\": uuid.uuid4()},\n",
    "    )\n",
    "    for chunk in result:\n",
    "        messages = chunk[\"messages\"]\n",
    "        last_message = messages[-1]\n",
    "        last_message.pretty_print()\n",
    "\n",
    "\n",
    "\n",
    "from IPython.display import Image, display\n",
    "\n",
    "png_data = researcher.get_graph()\n",
    "\n",
    "png_data = researcher.get_graph().draw_mermaid_png() \n",
    "display(Image(png_data))\n",
    "\n",
    "\n",
    "run_agent(researcher, \"2025年NBA总决赛谁赢了？\")"
   ]
  }
 ],
 "metadata": {
  "kernelspec": {
   "display_name": ".venv",
   "language": "python",
   "name": "python3"
  },
  "language_info": {
   "codemirror_mode": {
    "name": "ipython",
    "version": 3
   },
   "file_extension": ".py",
   "mimetype": "text/x-python",
   "name": "python",
   "nbconvert_exporter": "python",
   "pygments_lexer": "ipython3",
   "version": "3.11.12"
  }
 },
 "nbformat": 4,
 "nbformat_minor": 2
}
