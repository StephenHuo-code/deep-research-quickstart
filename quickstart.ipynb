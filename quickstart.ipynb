{
 "cells": [
  {
   "cell_type": "markdown",
   "metadata": {},
   "source": [
    "## 创建项目环境和基本依赖"
   ]
  },
  {
   "cell_type": "markdown",
   "metadata": {},
   "source": [
    "### 一、环境配置\n",
    "1. 准备下面环境的API KEY\n",
    "```bash\n",
    "TAVILY_API_KEY= \n",
    "DOUBAI_API_KEY=\n",
    "OPANAI_API_KEY=\n",
    "FIRECRAWL_API_KEY=\n",
    "```\n",
    "\n",
    "2. 使用uv准备工程环境，和所需要的包文件。在命令行中执行下面命令\n",
    "```bash\n",
    "#!/bin/bash\n",
    "uv init deep-research-quickstart\n",
    "cd deep-research-quickstart\n",
    "mkdir src\n",
    "uv add jinja2 firecrawl-py socksio\n",
    "uv add langchain langchain-openai langchain_tavily\n",
    "uv add langgraph langgraph-supervisor\n",
    "```"
   ]
  },
  {
   "cell_type": "markdown",
   "metadata": {},
   "source": [
    "### 一、模型"
   ]
  },
  {
   "cell_type": "code",
   "execution_count": 1,
   "metadata": {
    "vscode": {
     "languageId": "shellscript"
    }
   },
   "outputs": [
    {
     "name": "stdout",
     "output_type": "stream",
     "text": [
      "你好呀！有什么问题我都可以帮你解答，尽管跟我说。 \n"
     ]
    }
   ],
   "source": [
    "import os\n",
    "from src.models.chat_model import chat_model_doubao\n",
    "\n",
    "print(chat_model_doubao.invoke(\"你好，豆包\").content)"
   ]
  },
  {
   "cell_type": "code",
   "execution_count": 2,
   "metadata": {
    "vscode": {
     "languageId": "shellscript"
    }
   },
   "outputs": [
    {
     "name": "stdout",
     "output_type": "stream",
     "text": [
      "你好！有什么我可以帮助你的吗？\n"
     ]
    }
   ],
   "source": [
    "import os\n",
    "from src.models.chat_model import chat_model\n",
    "\n",
    "print(chat_model.invoke(\"你好\").content)"
   ]
  },
  {
   "cell_type": "markdown",
   "metadata": {},
   "source": [
    "## 二、工具"
   ]
  },
  {
   "cell_type": "code",
   "execution_count": 3,
   "metadata": {},
   "outputs": [
    {
     "name": "stdout",
     "output_type": "stream",
     "text": [
      "✅ FIRECRAWL_API_KEY 已配置\n",
      "\n",
      "正在爬取: https://docs.byteplus.com/en/docs/byteplus-media-live/docs-changelog\n",
      "\n",
      "爬取成功! 内容预览:\n",
      "==================================================\n",
      "DeepSeek-R1-0528 is now on BytePlus! Sign up for 500k free tokens, refer friends and earn up to $45!\n",
      "\n",
      "[Get free tokens](https://www.byteplus.com/en/experience/modelark)\n",
      "\n",
      "DeepSeek-R1-0528 is now on BytePlus! Sign up for 500k free tokens, refer friends and earn up to $45!\n",
      "\n",
      "[Get free tokens](https://www.byteplus.com/en/experience/modelark)\n",
      "\n",
      "[![BytePlus](https://assets.byteplus.com/obj/byteplus-assets/navigation/byteplus-logo.svg)](https://www.byteplus.com/en)\n",
      "\n",
      "[ModelArk](https://www.byteplus.com/en...\n"
     ]
    }
   ],
   "source": [
    "# 导入网页爬取工具\n",
    "from src.tools.web_crawl import web_crawl\n",
    "import os\n",
    "\n",
    "# 检查 FIRECRAWL_API_KEY 环境变量\n",
    "if not os.getenv(\"FIRECRAWL_API_KEY\"):\n",
    "    print(\"⚠️  警告: 未设置 FIRECRAWL_API_KEY 环境变量\")\n",
    "    print(\"请设置环境变量: export FIRECRAWL_API_KEY='your_api_key'\")\n",
    "else:\n",
    "    print(\"✅ FIRECRAWL_API_KEY 已配置\")\n",
    "\n",
    "# 基本爬取示例\n",
    "try:\n",
    "    # 爬取一个示例网页\n",
    "    url = \"https://docs.byteplus.com/en/docs/byteplus-media-live/docs-changelog\"\n",
    "    print(f\"\\n正在爬取: {url}\")\n",
    "    \n",
    "    content = web_crawl.invoke(url)\n",
    "    \n",
    "    print(f\"\\n爬取成功! 内容预览:\")\n",
    "    print(\"=\" * 50)\n",
    "    # 只显示前500个字符\n",
    "    print(content[:500] + \"...\")\n",
    "    \n",
    "except Exception as e:\n",
    "    print(f\"爬取失败: {e}\")\n",
    "    print(\"请确保已设置正确的 FIRECRAWL_API_KEY\")\n"
   ]
  },
  {
   "cell_type": "markdown",
   "metadata": {},
   "source": [
    "使用chatmodel结合爬虫工具"
   ]
  },
  {
   "cell_type": "code",
   "execution_count": null,
   "metadata": {},
   "outputs": [],
   "source": [
    "# 高级示例：爬取网页内容并用AI分析\n",
    "from src.models.chat_model import chat_model\n",
    "from langchain.schema import SystemMessage, HumanMessage\n",
    "\n",
    "def analyze_webpage(url, question):\n",
    "    \"\"\"爬取网页并用AI分析内容\"\"\"\n",
    "    try:\n",
    "        print(f\"正在爬取: {url}\")\n",
    "        \n",
    "        # 爬取网页内容\n",
    "        content = web_crawl.invoke(url)\n",
    "        \n",
    "        if not content:\n",
    "            return \"爬取失败或内容为空\"\n",
    "            \n",
    "        print(f\"爬取成功，内容长度: {len(content)} 字符\")\n",
    "        \n",
    "        # 使用AI分析内容\n",
    "        response = chat_model.invoke([\n",
    "            SystemMessage(content=\"\"\"你是一个视频云产品专家。请基于提供的网页内容，回答相关问题。\n",
    "            要求：\n",
    "            1. 仔细阅读网页内容\n",
    "            2. 针对用户问题给出准确回答\n",
    "            3. 如果内容不足以回答问题，请明确说明\n",
    "            4. 用中文回答\"\"\"),\n",
    "            HumanMessage(content=f\"网页内容:\\n{content[:3000]}\\n\\n用户问题: {question}\")\n",
    "        ])\n",
    "        \n",
    "        return response.content\n",
    "        \n",
    "    except Exception as e:\n",
    "        return f\"分析失败: {e}\"\n",
    "\n",
    "# 示例使用\n",
    "if os.getenv(\"FIRECRAWL_API_KEY\") and os.getenv(\"DOUBAO_API_KEY\"):\n",
    "    # 分析Python官网\n",
    "    result = analyze_webpage(\n",
    "        \"https://docs.byteplus.com/en/docs/byteplus-media-live/docs-changelog\", \n",
    "        \"把过去发布的特征整理成mardown格式；\"\n",
    "    )\n",
    "    print(\"\\nAI分析结果:\")\n",
    "    print(\"=\" * 50)\n",
    "    print(result)\n",
    "else:\n",
    "    print(\"需要设置 FIRECRAWL_API_KEY 和 DOUBAO_API_KEY 环境变量才能运行此示例\")\n"
   ]
  },
  {
   "cell_type": "markdown",
   "metadata": {},
   "source": [
    "# 三、单智能体Agent"
   ]
  },
  {
   "cell_type": "code",
   "execution_count": 4,
   "metadata": {
    "vscode": {
     "languageId": "shellscript"
    }
   },
   "outputs": [
    {
     "data": {
      "image/png": "[encoded data removed]",
      "text/plain": [
       "<IPython.core.display.Image object>"
      ]
     },
     "metadata": {},
     "output_type": "display_data"
    },
    {
     "name": "stdout",
     "output_type": "stream",
     "text": [
      "================================\u001b[1m Human Message \u001b[0m=================================\n",
      "\n",
      "2025年NBA总决赛谁赢了？\n",
      "==================================\u001b[1m Ai Message \u001b[0m==================================\n",
      "Name: researcher\n",
      "Tool Calls:\n",
      "  web_search (call_i6ZwuF4TGJTqPjKgX02sJKWL)\n",
      " Call ID: call_i6ZwuF4TGJTqPjKgX02sJKWL\n",
      "  Args:\n",
      "    query: 2025 NBA Finals winner\n",
      "=================================\u001b[1m Tool Message \u001b[0m=================================\n",
      "Name: web_search\n",
      "\n",
      "{'query': '2025 NBA Finals winner', 'follow_up_questions': None, 'answer': None, 'images': [], 'results': [{'title': 'Who Won the NBA Finals 2025? Check the NBA Championship Winner Here', 'url': 'https://www.jagranjosh.com/us/trending/who-won-the-nba-finals-2025-1860000073', 'content': \"Following an intense series against the Indiana Pacers in the 2025 NBA Finals, the Oklahoma City Thunder made their way to their first-ever NBA Championship. Image 4: The Oklahoma City Thunder won the NBA Finals 2025, bringing their city the first ever NBA Championship Title. The Oklahoma City Thunder won the NBA Finals 2025, bringing their city the first ever NBA Championship Title. After a grueling regular season and a dramatic run through the NBA Playoffs, two formidable teams emerged to battle for the coveted Larry O'Brien Championship Trophy: the surprising Indiana Pacers from the Eastern Conference and the ascendant Oklahoma City Thunder from the West. The undisputed NBA Finals MVP for 2025 was Shai Gilgeous-Alexander of the Oklahoma City Thunder.\", 'score': 0.95782167, 'raw_content': None}, {'title': '2025 NBA Finals - Wikipedia', 'url': 'https://en.wikipedia.org/wiki/2025_NBA_Finals', 'content': 'The **2025 NBA Finals** is the ongoing championship series of the National Basketball Association (NBA)\\'s 2024–25 season and conclusion to the season\\'s playoffs. The Pacers\\' third improbable comeback occurred against the New York Knicks in Game 1 of the Eastern Conference Finals_New_York_Knicks_vs._(4)_Indiana_Pacers \"2025 NBA playoffs\"): down 14 with 2:45 left, the Pacers were able to win the game in overtime. In the Western Conference Finals_Oklahoma_City_Thunder_vs._(6)_Minnesota_Timberwolves \"2025 NBA playoffs\"), they won the series handily against the Minnesota Timberwolves in five games. \"Tyrese Haliburton, Pacers beat Thunder in NBA Finals Game 3: Analysis and reaction\". **^**\"2025 NBA Finals: Biggest takeaways from Thunder-Pacers Game 3\". \"ABC\\'s Exclusive Coverage of the 2025 NBA Finals Presented by YouTube TV Begins June 5: Indiana Pacers vs.', 'score': 0.8755427, 'raw_content': None}, {'title': 'NBA Finals 2025 winners, losers: Thunder claim championship - USA TODAY', 'url': 'https://www.usatoday.com/story/sports/nba/playoffs/2025/06/23/nba-finals-2025-winners-losers/84313526007/', 'content': \"Winners and losers from Oklahoma City Thunder's NBA Finals victory. Lorenzo Reyes Jeff Zillgitt. ... the Thunder will be favorites to win the title again in 2025-26. Jalen Williams. Williams, 24\", 'score': 0.875031, 'raw_content': None}, {'title': 'Who won 2025 NBA Finals? Oklahoma City Thunder vs Indiana Pacers score', 'url': 'https://www.azcentral.com/story/sports/nba/2025/06/23/who-won-2025-nba-finals-oklahoma-city-thunder-indiana-pacers/84319853007/', 'content': 'Oklahoma City lost Game 1 of the NBA finals against Indiana before bouncing back to win Game 2. Barefoot Vitality | [AdAd](https://verfernonreless.com/8311b48a-ffd6-4495-9782-d76d0d67d39b \"This New Barefoot Shoe is Game Changer for Seniors\") Barefoot Vitality | [AdAd Learn More](https://verfernonreless.com/8311b48a-ffd6-4495-9782-d76d0d67d39b \"Orthopedists: New Barefoot Shoe is Game Changer\") The US Army 250th Anniversary Eagle Wreath Decoration is Taking Council Bluffs By Storm Stand out in Your City With a Stunning Flag Wreath for Your Home SOLYMALL | [AdAd](https://tick.topchicdeals.com/83b67b6b-e843-40ee-8023-e8754f1ba01f \"The US Army 250th Anniversary Eagle Wreath Decoration is Taking Council Bluffs By Storm\") Sherum | [AdAd Learn More](https://tick.topchicdeals.com/66512e1c-39cf-45cc-8e27-e245b8eb85aa \"Why Are People Snapping up This Metal Eagle Flag Tree Stake?\") Durant trade winners and losers after blockbuster deal Breaking down the NBA trade that sent Kevin Durant to the Houston Rockets from the Phoenix Suns.The Arizona Republic', 'score': 0.84707206, 'raw_content': None}, {'title': '2025 NBA Finals - Pacers vs. Thunder - Basketball-Reference.com', 'url': 'https://www.basketball-reference.com/playoffs/2025-nba-finals-pacers-vs-thunder.html', 'content': \"New Orleans Pelicans(21-61)F$    **» All NBA & ABA Teams· G-League Teams· NBL Teams· International Teams· WNBA Teams**   *   Stathead**Stathead**Basketball's Most Powerful Research Tools  Players: Season Finder· Game Finder· Streak Finder· Span Finder· Quarter Finder· Versus Finder Teams: Season Finder· Game Finder· Streak Finder· Span Finder Other: Event Finder· Shot Finder College: Player Game Finder· Player Season Finder· Team Game Finder· Team Season Finder  » **All Stathead Tools**   Playoff Series Table**Finals**Oklahoma City Thunder tied with Indiana Pacers(3-3)Series Stats *   Teams**Atlantic**: Toronto, Boston, New York, Brooklyn, Philadelphia **Central**: Cleveland, Indiana, Detroit, Chicago, Milwaukee **Southeast**: Miami, Atlanta, Charlotte, Washington, Orlando **Northwest**: Oklahoma City, Portland, Utah, Denver, Minnesota **Pacific**: Golden State, Los Angeles Clippers, Sacramento, Phoenix, Los Angeles Lakers **Southwest**: San Antonio, Dallas, Memphis, Houston, New Orleans \", 'score': 0.74961954, 'raw_content': None}], 'response_time': 2.15}\n",
      "==================================\u001b[1m Ai Message \u001b[0m==================================\n",
      "Name: researcher\n",
      "\n",
      "In the 2025 NBA Finals, the Oklahoma City Thunder emerged victorious, claiming their first-ever NBA Championship. They faced the Indiana Pacers in a competitive series. Shai Gilgeous-Alexander of the Thunder was named the Finals MVP for his outstanding performance throughout the series.\n"
     ]
    }
   ],
   "source": [
    "import uuid\n",
    "import os\n",
    "from typing import Optional\n",
    "from langgraph.graph.graph import CompiledGraph\n",
    "from src.agents.researcher import researcher\n",
    "\n",
    "\n",
    "def run_agent(agent: CompiledGraph, message: str):\n",
    "    result = agent.stream(\n",
    "        {\"messages\": [{\"role\": \"user\", \"content\": message}]},\n",
    "        stream_mode=\"values\",\n",
    "        config={\"thread_id\": uuid.uuid4()},\n",
    "    )\n",
    "    for chunk in result:\n",
    "        messages = chunk[\"messages\"]\n",
    "        last_message = messages[-1]\n",
    "        last_message.pretty_print()\n",
    "\n",
    "\n",
    "\n",
    "from IPython.display import Image, display\n",
    "\n",
    "png_data = researcher.get_graph()\n",
    "\n",
    "png_data = researcher.get_graph().draw_mermaid_png() \n",
    "display(Image(png_data))\n",
    "\n",
    "\n",
    "run_agent(researcher, \"2025年NBA总决赛谁赢了？\")"
   ]
  }
 ],
 "metadata": {
  "kernelspec": {
   "display_name": ".venv",
   "language": "python",
   "name": "python3"
  },
  "language_info": {
   "codemirror_mode": {
    "name": "ipython",
    "version": 3
   },
   "file_extension": ".py",
   "mimetype": "text/x-python",
   "name": "python",
   "nbconvert_exporter": "python",
   "pygments_lexer": "ipython3",
   "version": "3.11.4"
  }
 },
 "nbformat": 4,
 "nbformat_minor": 2
}
